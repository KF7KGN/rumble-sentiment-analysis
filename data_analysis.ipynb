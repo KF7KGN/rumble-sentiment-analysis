# Import necessary libraries
import pandas as pd
from textblob import TextBlob
import matplotlib.pyplot as plt
import seaborn as sns

# Load the data from the CSV file
df = pd.read_csv("comments.csv")

# Function to perform sentiment analysis
def get_sentiment(text):
    blob = TextBlob(text)
    return blob.sentiment.polarity

# Apply sentiment analysis to the comments
df['Sentiment'] = df['Comment'].apply(get_sentiment)

# Display the first few rows of the DataFrame
df.head()

# Plot the distribution of sentiment scores
plt.figure(figsize=(10, 6))
sns.histplot(df['Sentiment'], bins=20, kde=True)
plt.title('Distribution of Comment Sentiments')
plt.xlabel('Sentiment Score')
plt.ylabel('Frequency')
plt.show()

# Basic statistics of sentiment scores
df['Sentiment'].describe()

# Identify patterns in sentiment that correlate with misinformation
# This part is subjective and might require additional criteria
# For example, looking at extreme negative or positive sentiments
extreme_sentiments = df[(df['Sentiment'] > 0.5) | (df['Sentiment'] < -0.5)]
print(extreme_sentiments)

# Visualize the comments with extreme sentiments
plt.figure(figsize=(10, 6))
sns.scatterplot(x='Sentiment', y=extreme_sentiments.index, data=extreme_sentiments, hue='Sentiment', palette='coolwarm', s=100)
plt.title('Extreme Sentiment Comments')
plt.xlabel('Sentiment Score')
plt.ylabel('Comment Index')
plt.show()
